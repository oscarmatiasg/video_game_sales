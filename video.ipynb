{
 "cells": [
  {
   "cell_type": "code",
   "execution_count": null,
   "metadata": {},
   "outputs": [],
   "source": [
    "import pandas as pd\n",
    "\n",
    "# Cargar el archivo vgsales.csv en un DataFrame de Pandas\n",
    "df = pd.read_csv('vgsales.csv')\n",
    "\n",
    "# Muestra las primeras 10 filas del DataFrame\n",
    "df.head(10)\n",
    "\n",
    "# Muestra las últimas 5 filas del DataFrame\n",
    "df.tail(5)\n",
    "\n",
    "# Utiliza el método info() para obtener información general sobre el DataFrame\n",
    "df.info()\n",
    "\n",
    "# Genera estadísticas descriptivas del DataFrame utilizando el método describe()\n",
    "df.describe()\n",
    "\n",
    "# Inspecciona los tipos de datos de cada columna utilizando el atributo dtypes\n",
    "df.dtypes\n",
    "\n",
    "# Cuenta los valores únicos en la columna Genre utilizando el método value_counts()\n",
    "df['Genre'].value_counts()\n",
    "\n",
    "# Muestra todos los valores únicos en la columna Platform utilizando el método unique()\n",
    "df['Platform'].unique()\n",
    "\n",
    "# Filtra el DataFrame para mostrar solo las filas donde las ventas en América del Norte (NA_Sales) sean mayores a 1 millón\n",
    "df_filtrado = df[df['NA_Sales'] > 1e6]\n",
    "df_filtrado\n",
    "\n",
    "# Filtra el DataFrame para mostrar solo las filas donde las ventas en Japón (JP_Sales) sean menores a 0.1 millón\n",
    "df_filtrado = df[df['JP_Sales'] < 1e5]\n",
    "df_filtrado\n",
    "\n",
    "# Utilizando el método query(), filtra el DataFrame para mostrar las filas donde el género sea Action y las ventas globales (Global_Sales) sean mayores a 2 millones\n",
    "df_filtrado = df.query('Genre == \"Action\" and Global_Sales > 2e6')\n",
    "df_filtrado\n",
    "\n",
    "# Selecciona y muestra solo las columnas Name y Global_Sales del DataFrame\n",
    "df[['Name', 'Global_Sales']]\n",
    "\n",
    "# Utilizando loc[], selecciona y muestra las filas de la 5 a la 10 (inclusive) y las columnas Name y Genre\n",
    "df.loc[5:10, ['Name', 'Genre']]\n",
    "\n",
    "# Utilizando iloc[], selecciona y muestra las primeras 5 filas y las primeras 3 columnas del DataFrame\n",
    "df.iloc[:5, :3]"
   ]
  }
 ],
 "metadata": {
  "kernelspec": {
   "display_name": "Python 3",
   "language": "python",
   "name": "python3"
  },
  "language_info": {
   "codemirror_mode": {
    "name": "ipython",
    "version": 3
   },
   "file_extension": ".py",
   "mimetype": "text/x-python",
   "name": "python",
   "nbconvert_exporter": "python",
   "pygments_lexer": "ipython3",
   "version": "3.12.2"
  }
 },
 "nbformat": 4,
 "nbformat_minor": 2
}
